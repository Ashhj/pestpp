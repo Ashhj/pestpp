{
 "metadata": {
  "name": "",
  "signature": "sha256:4e478c70df5415616d95134d7f3e37272f3bdcc778289a538c2963920b775a49"
 },
 "nbformat": 3,
 "nbformat_minor": 0,
 "worksheets": [
  {
   "cells": [
    {
     "cell_type": "markdown",
     "metadata": {},
     "source": [
      "#GML test problem\n",
      "This is the test problem from the PEST++ V3 documentation.  It is a simple 10-parameter cross section model. each cell is 10 meters long.  There is a specified flux on the right side, representing inflow from upgradient and a specified head on the left side.  The model has two steady-state stress periods.  The first stress period has a specified flux of 0.5 $\\frac{m^3}{day}$ and is used as the calibration period; water levels from cells `4` and `6` are \"observed\" as the calibration dataset.  The second stress period serves as the prediction period and has a specified flux of 1.0 $\\frac{m^3}{day}$; the prediction is the water level in model cell `8` at the end of the second stress period."
     ]
    },
    {
     "cell_type": "code",
     "collapsed": false,
     "input": [
      "%pylab inline\n",
      "import os\n",
      "import shutil\n",
      "import numpy as np\n",
      "import pylab as plt\n",
      "from matplotlib.patches import Rectangle as rect\n",
      "import mat_handler as mhand\n",
      "import pst_handler as phand\n",
      "\n",
      "# a function to plot the model domain\n",
      "# globals\n",
      "delx = 10\n",
      "x = np.arange(0,100,delx)\n",
      "ncell = 10\n",
      "cell_nums = np.arange(delx,(ncell*delx)+delx,delx) - (0.5*delx)\n",
      "\n",
      "\n",
      "def plot_domain():\n",
      "    '''a simple function to plot a \"pretty\" domain\n",
      "    '''\n",
      "    fig = plt.figure(figsize=(10,10))\n",
      "    ax_cal = plt.axes((0.1,0.575,0.8,0.4))\n",
      "    ax_prd = plt.axes((0.1,0.15,0.8,0.4))\n",
      "    for i,(col) in enumerate(cell_nums):\n",
      "        xmn,xmx = col-(delx*0.5),col+(delx*0.5)\n",
      "        ymn,ymx = -1.0,0.0   \n",
      "        if i == 0:\n",
      "            c = 'm'\n",
      "        elif i == cell_nums.shape[0]-1:\n",
      "            c = 'g'\n",
      "        else:\n",
      "            c = '#E5E4E2'        \n",
      "        a = 0.75\n",
      "        r1 = rect((xmn,ymn),xmx-xmn,ymx-ymn,color=c,ec='k',alpha=a)\n",
      "        ax_cal.add_patch(r1)\n",
      "        r2 = rect((xmn,ymn),xmx-xmn,ymx-ymn,color=c,ec='k',alpha=a)\n",
      "        ax_prd.add_patch(r2)    \n",
      "        x,y = (xmn+xmx)/2.0,(ymn+ymx)/2.0\n",
      "        ax_cal.text(x,y,i+1,ha='center',va='center',fontsize=12)\n",
      "        ax_prd.text(x,y,i+1,ha='center',va='center',fontsize=12)\n",
      "        \n",
      "    ax_cal.scatter([cell_nums[3],cell_nums[5]],[2.1,2.5],marker='^',s=100,edgecolor=\"none\",facecolor=\"r\",label=\"observed\")\n",
      "    ax_cal.set_ylim(-1,8.5)\n",
      "    ax_prd.set_ylim(-1,8.5)\n",
      "    ax_cal.set_xticklabels([])\n",
      "    ax_prd.set_xticklabels([])\n",
      "    ax_cal.text(50,7.5,\"Calibration\",fontsize=15,ha=\"center\")\n",
      "    ax_prd.text(50,7.5,\"Prediction\",fontsize=15,ha=\"center\")\n",
      "    ax_cal.set_xlim(0,100)\n",
      "    ax_prd.set_xlim(0,100)\n",
      "    arrowprops=dict(connectionstyle=\"angle,angleA=0,angleB=90,rad=5\",arrowstyle='->')\n",
      "    bbox_args = dict(fc=\"1.0\")\n",
      "    ax_cal.annotate('Q=0.5 $m^3/d$',fontsize=12,xy=(95,0),xytext=(82.0,1.0),\n",
      "                 arrowprops=arrowprops,bbox=bbox_args)\n",
      "    ax_prd.annotate('Q=1.0 $m^3/d$',fontsize=12,xy=(95,0),xytext=(82.0,1.0),\n",
      "                 arrowprops=arrowprops,bbox=bbox_args)\n",
      "    ax_prd.text(0.0,-1.6,'Specified\\nhead',ha='left',va='top',fontsize=12)\n",
      "    ax_prd.text(100,-1.6,'Specified\\nflux',ha='right',va='top',fontsize=12)\n",
      "    ax_prd.text(50,-1.6,'Active model cells',ha='center',va='top',fontsize=12)\n",
      "    ax_prd.text(75,4.7,'?',ha='center',va='center',fontsize=50,alpha=0.25)\n",
      "    return ax_cal,ax_prd\n",
      "\n",
      "\n",
      "plot_domain()"
     ],
     "language": "python",
     "metadata": {},
     "outputs": [
      {
       "output_type": "stream",
       "stream": "stdout",
       "text": [
        "Populating the interactive namespace from numpy and matplotlib\n"
       ]
      },
      {
       "output_type": "stream",
       "stream": "stderr",
       "text": [
        "WARNING: pylab import has clobbered these variables: ['plt']\n",
        "`%matplotlib` prevents importing * from pylab and numpy\n"
       ]
      },
      {
       "metadata": {},
       "output_type": "pyout",
       "prompt_number": 6,
       "text": [
        "(<matplotlib.axes.Axes at 0xca8acc0>, <matplotlib.axes.Axes at 0xcb57080>)"
       ]
      },
      {
       "metadata": {},
       "output_type": "display_data",
       "png": "[encoded data removed]",
       "text": [
        "<matplotlib.figure.Figure at 0xc27e6d8>"
       ]
      }
     ],
     "prompt_number": 6
    },
    {
     "cell_type": "markdown",
     "metadata": {},
     "source": [
      "##parameterization and regularization"
     ]
    },
    {
     "cell_type": "markdown",
     "metadata": {},
     "source": [
      "The hydraulic conductivity of each of the 10 model cells is treated as an adjustable parameter.  Let's add preferred value regularization to the pest control file "
     ]
    },
    {
     "cell_type": "code",
     "collapsed": false,
     "input": [
      "pst = phand.pst(os.path.join(\"template\",\"pest.pst\"))\n",
      "pst.zero_order_tikhonov()\n",
      "pst.mode = \"regularisation\"\n",
      "pst.write(os.path.join(\"template\",\"pest_reg.pst\"))"
     ],
     "language": "python",
     "metadata": {},
     "outputs": [],
     "prompt_number": 7
    },
    {
     "cell_type": "markdown",
     "metadata": {},
     "source": [
      "##run pest++ and i64pest"
     ]
    },
    {
     "cell_type": "code",
     "collapsed": false,
     "input": [
      "# first setup the run dirs\n",
      "base_dir = \"template\"\n",
      "pestpp_dir = \"pestpp\"\n",
      "pest_dir = \"pest\"\n",
      "\n",
      "pestpp_exe = \"pest++.exe\"\n",
      "pest_exe = \"i64pest.exe\"\n",
      "\n",
      "if os.path.exists(pestpp_dir):\n",
      "    shutil.rmtree(pestpp_dir)\n",
      "if os.path.exists(pest_dir):\n",
      "    shutil.rmtree(pest_dir)\n",
      "\n",
      "shutil.copytree(base_dir,pestpp_dir)\n",
      "shutil.copytree(base_dir,pest_dir)\n"
     ],
     "language": "python",
     "metadata": {},
     "outputs": [],
     "prompt_number": 14
    },
    {
     "cell_type": "code",
     "collapsed": false,
     "input": [
      "os.chdir(pest_dir)\n",
      "os.system(pest_exe + \" pest_reg.pst\")\n",
      "os.chdir(\"..\")"
     ],
     "language": "python",
     "metadata": {},
     "outputs": [],
     "prompt_number": 16
    },
    {
     "cell_type": "code",
     "collapsed": false,
     "input": [
      "os.chdir(pestpp_dir)\n",
      "os.system(pestpp_exe + \" pest_reg.pst\")\n",
      "os.chdir(\"..\")"
     ],
     "language": "python",
     "metadata": {},
     "outputs": [],
     "prompt_number": 17
    },
    {
     "cell_type": "code",
     "collapsed": false,
     "input": [],
     "language": "python",
     "metadata": {},
     "outputs": []
    }
   ],
   "metadata": {}
  }
 ]
}