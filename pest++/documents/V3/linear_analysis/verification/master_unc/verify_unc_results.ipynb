{
 "metadata": {
  "name": "",
  "signature": "sha256:b32e2af1ada0eb5d716c183ca52b020ded6485b3c765ccb47a6c4415b450d0cf"
 },
 "nbformat": 3,
 "nbformat_minor": 0,
 "worksheets": [
  {
   "cells": [
    {
     "cell_type": "markdown",
     "metadata": {},
     "source": [
      "#verify the pest++ linear analysis with the henry problem"
     ]
    },
    {
     "cell_type": "code",
     "collapsed": false,
     "input": [
      "import os\n",
      "import numpy as np\n",
      "import pyemu\n",
      "import pst_handler as phand\n",
      "import mat_handler as mhand"
     ],
     "language": "python",
     "metadata": {},
     "outputs": [],
     "prompt_number": 4
    },
    {
     "cell_type": "markdown",
     "metadata": {},
     "source": [
      "first reorder the jco"
     ]
    },
    {
     "cell_type": "code",
     "collapsed": false,
     "input": [
      "la = pyemu.schur(\"pest.jco\",verbose=False)\n",
      "la.drop_prior_information()\n",
      "jco_ord = la.jco.get(la.pst.obs_names,la.pst.par_names)\n",
      "ord_base = \"pest_ord\"\n",
      "jco_ord.to_binary(ord_base + \".jco\")  "
     ],
     "language": "python",
     "metadata": {},
     "outputs": [],
     "prompt_number": 5
    },
    {
     "cell_type": "markdown",
     "metadata": {},
     "source": [
      "scale the observation weights"
     ]
    },
    {
     "cell_type": "code",
     "collapsed": false,
     "input": [
      "print la.pst.phi,la.pst.phi_components\n",
      "la.pst.adjust_weights_resfile()\n",
      "print la.pst.phi,la.pst.phi_components\n",
      "la.pst.observation_data\n",
      "la.pst.write(ord_base + \".pst\")"
     ],
     "language": "python",
     "metadata": {},
     "outputs": [
      {
       "output_type": "stream",
       "stream": "stdout",
       "text": [
        "371.679809461 {'pred': 0.0, 'head': 174.62158849971445, 'conc': 197.05822096106502}\n",
        "36.0 {'pred': 0.0, 'head': 20.999999999999996, 'conc': 15.000000000000004}\n"
       ]
      },
      {
       "output_type": "stream",
       "stream": "stderr",
       "text": [
        "C:\\Anaconda\\lib\\site-packages\\pandas\\core\\frame.py:1284: FutureWarning: colSpace is deprecated, use col_space\n",
        "  FutureWarning)\n"
       ]
      }
     ],
     "prompt_number": 6
    },
    {
     "cell_type": "markdown",
     "metadata": {},
     "source": [
      "extract and save the pred vectors"
     ]
    },
    {
     "cell_type": "code",
     "collapsed": false,
     "input": [
      "pv_names = []\n",
      "for pred in [\"pd_one\",\"pd_ten\",\"pd_half\"]:\n",
      "    pv = jco_ord.extract(pred).T\n",
      "    pv_name = pred + \".vec\"\n",
      "    pv.to_ascii(pv_name)\n",
      "    pv_names.append(pv_name)\n",
      "    \n",
      "    "
     ],
     "language": "python",
     "metadata": {},
     "outputs": [],
     "prompt_number": 7
    },
    {
     "cell_type": "markdown",
     "metadata": {},
     "source": [
      "save the parcov as an uncertainty file"
     ]
    },
    {
     "cell_type": "code",
     "collapsed": false,
     "input": [
      "prior_uncfile = \"pest.unc\"\n",
      "la.parcov.to_uncfile(prior_uncfile)"
     ],
     "language": "python",
     "metadata": {},
     "outputs": [],
     "prompt_number": 8
    },
    {
     "cell_type": "markdown",
     "metadata": {},
     "source": [
      "#PRECUNC7\n",
      "This is where things get ugly - in files and system calls - yuk!"
     ]
    },
    {
     "cell_type": "code",
     "collapsed": false,
     "input": [
      "post_mat = \"post.cov\"\n",
      "post_unc = \"post.unc\"\n",
      "args = [ord_base + \".pst\",\"1.0\",prior_uncfile,post_mat,post_unc,\"1\"]\n",
      "pd7_in = \"predunc7.in\"\n",
      "f = open(pd7_in,'w')\n",
      "f.write('\\n'.join(args)+'\\n')\n",
      "f.close()\n",
      "out = \"pd7.out\"\n",
      "os.system(\"i64predunc7.exe < \"+pd7_in + \" >\"+out)\n",
      "for line in open(out).readlines():\n",
      "    print line,"
     ],
     "language": "python",
     "metadata": {},
     "outputs": [
      {
       "output_type": "stream",
       "stream": "stdout",
       "text": [
        "\n",
        " PREDUNC7 Version 13.3. Watermark Numerical Computing.\n",
        "\n",
        " Enter name of PEST control file:  Enter observation reference variance: \n",
        " Enter name of prior parameter uncertainty file: \n",
        " Enter name for posterior parameter covariance matrix file:  Enter name for posterior parameter uncertainty file: \n",
        " Use which version of linear predictive uncertainty equation:-\n",
        "     if version optimized for small number of parameters   - enter 1\n",
        "     if version optimized for small number of observations - enter 2\n",
        " Enter your choice: \n",
        " - reading PEST control file pest_ord.pst....\n",
        " - file pest_ord.pst read ok.\n",
        "\n",
        " - reading Jacobian matrix file pest_ord.jco....\n",
        " - file pest_ord.jco read ok.\n",
        "\n",
        " - reading parameter uncertainty file pest.unc....\n",
        " - reading covariance matrix file cov.mat...\n",
        " - covariance matrix file cov.mat read ok.\n",
        " - parameter uncertainty file pest.unc read ok.\n",
        " - forming XtC-1(e)X matrix....\n",
        " - inverting prior C(p) matrix....\n",
        " - inverting [XtC-1(e)X + C-1(p)] matrix....\n",
        " - writing file post.cov...\n",
        " - file post.cov written ok.\n",
        " - writing file post.unc...\n",
        " - file post.unc written ok.\n"
       ]
      }
     ],
     "prompt_number": 9
    },
    {
     "cell_type": "code",
     "collapsed": false,
     "input": [
      "post_pd7 = mhand.cov()\n",
      "post_pd7.from_ascii(post_mat)\n",
      "post_pestpp = mhand.cov()\n",
      "post_pestpp.from_ascii(\"pest.post.cov\")"
     ],
     "language": "python",
     "metadata": {},
     "outputs": [],
     "prompt_number": 10
    },
    {
     "cell_type": "markdown",
     "metadata": {},
     "source": [
      "The cumulative difference between the two posterior matrices:"
     ]
    },
    {
     "cell_type": "code",
     "collapsed": false,
     "input": [
      "print ((post_pd7 - post_pestpp).x).sum()"
     ],
     "language": "python",
     "metadata": {},
     "outputs": [
      {
       "output_type": "stream",
       "stream": "stdout",
       "text": [
        "1.59959535358e-07\n"
       ]
      }
     ],
     "prompt_number": 12
    },
    {
     "cell_type": "markdown",
     "metadata": {},
     "source": [
      "#PREDUNC1"
     ]
    },
    {
     "cell_type": "code",
     "collapsed": false,
     "input": [
      "args = [ord_base + \".pst\", \"1.0\", prior_uncfile, None, \"1\"]\n",
      "pd1_in = \"predunc1.in\"\n",
      "\n",
      "pd1_results = {}\n",
      "for pv_name in pv_names:\n",
      "    args[3] = pv_name\n",
      "    f = open(pd1_in, 'w')\n",
      "    f.write('\\n'.join(args) + '\\n')\n",
      "    f.close()\n",
      "    out = \"predunc1\"+pv_name+\".out\"\n",
      "    os.system(\"i64predunc1.exe <\" + pd1_in + \">\" + out)\n",
      "    f = open(out,'r')\n",
      "    for line in f:\n",
      "        if \"pre-cal \" in line.lower():\n",
      "            pre_cal = float(line.strip().split()[-2])\n",
      "        elif \"post-cal \" in line.lower():\n",
      "            post_cal = float(line.strip().split()[-2])\n",
      "    f.close()        \n",
      "    pd1_results[pv_name.split('.')[0].lower()] = [pre_cal,post_cal]  \n",
      "   \n",
      "  "
     ],
     "language": "python",
     "metadata": {},
     "outputs": [],
     "prompt_number": 88
    },
    {
     "cell_type": "markdown",
     "metadata": {},
     "source": [
      "now load the results from the pest++ rec file"
     ]
    },
    {
     "cell_type": "code",
     "collapsed": false,
     "input": [
      "f = open(\"pest.rec\",'r')\n",
      "pestpp_results = {}\n",
      "while True:\n",
      "    line = f.readline()\n",
      "    if line == '':\n",
      "        break\n",
      "    if \"prediction_name\" in line.lower():\n",
      "        while True:\n",
      "            line = f.readline() \n",
      "            raw = line.strip().split()\n",
      "            if len(raw) == 0:\n",
      "                break\n",
      "            pre_cal = np.sqrt(float(raw[2]))\n",
      "            post_cal = np.sqrt(float(raw[6]))\n",
      "            pestpp_results[raw[0].lower()] = [pre_cal,post_cal]\n",
      "        break"
     ],
     "language": "python",
     "metadata": {},
     "outputs": [],
     "prompt_number": 89
    },
    {
     "cell_type": "markdown",
     "metadata": {},
     "source": [
      "compare the results:"
     ]
    },
    {
     "cell_type": "code",
     "collapsed": false,
     "input": [
      "for pname in pd1_results.keys():\n",
      "    print \"prior\",pname,pd1_results[pname][0],pestpp_results[pname][0]\n",
      "    print \"post\",pname,pd1_results[pname][1],pestpp_results[pname][1]"
     ],
     "language": "python",
     "metadata": {},
     "outputs": [
      {
       "output_type": "stream",
       "stream": "stdout",
       "text": [
        "prior pd_half 0.2829277 0.282927729288\n",
        "post pd_half 0.2450914 0.245091411518\n",
        "prior pd_ten 0.289607 0.289606975054\n",
        "post pd_ten 0.24578 0.245779982912\n",
        "prior pd_one 0.2121308 0.212130855841\n",
        "post pd_one 0.1777507 0.177750668072\n"
       ]
      }
     ],
     "prompt_number": 90
    },
    {
     "cell_type": "markdown",
     "metadata": {},
     "source": [
      "check that pyemu agrees:"
     ]
    },
    {
     "cell_type": "code",
     "collapsed": false,
     "input": [
      "la = pyemu.schur(\"pest.jco\",obscov=\"pest_ord.pst\",verbose=False,predictions=[\"pd_one\",\"pd_ten\",\"pd_half\"])\n",
      "la.drop_prior_information()\n",
      "for pname in pd1_results.keys():\n",
      "    print \"prior\",pname,pd1_results[pname][0],pestpp_results[pname][0],np.sqrt(la.prior_prediction[pname])\n",
      "    print \"post\",pname,pd1_results[pname][1],pestpp_results[pname][1],np.sqrt(la.posterior_prediction[pname])\n"
     ],
     "language": "python",
     "metadata": {},
     "outputs": [
      {
       "output_type": "stream",
       "stream": "stdout",
       "text": [
        "prior pd_half 0.2829277 0.282927729288 "
       ]
      },
      {
       "output_type": "stream",
       "stream": "stdout",
       "text": [
        "0.282927667453\n",
        "post pd_half 0.2450914 0.245091411518 "
       ]
      },
      {
       "output_type": "stream",
       "stream": "stdout",
       "text": [
        "0.24509136483\n",
        "prior pd_ten 0.289607 0.289606975054 0.289606964443\n",
        "post pd_ten 0.24578 0.245779982912 0.245779985036\n",
        "prior pd_one 0.2121308 0.212130855841 0.212130827189\n",
        "post pd_one 0.1777507 0.177750668072 0.177750671652\n"
       ]
      }
     ],
     "prompt_number": 91
    },
    {
     "cell_type": "markdown",
     "metadata": {},
     "source": [
      "write a csv file that will be used as a table"
     ]
    },
    {
     "cell_type": "code",
     "collapsed": false,
     "input": [
      "f = open(\"compare_par.csv\",'w')\n",
      "f.write(\"parameter,PEST++,PEST\\n\")\n",
      "for i in [0,35,38,44]:\n",
      "    pd7 = post_pd7.x[i,i]\n",
      "    pp_i = post_pestpp.row_names.index(post_pd7.row_names[i])\n",
      "    pp = post_pestpp.x[pp_i,pp_i]\n",
      "    line = \"{0:s},{1:f},{2:f}\\n\".format(post_pd7.row_names[i],pd7,pp,)\n",
      "    f.write(line)\n",
      "f.close()\n",
      "f = open(\"compare_pred.csv\",'w')\n",
      "f.write(\"prediction,PEST++,,PEST,\\n\")\n",
      "f.write(\",prior,posterior,prior,posterior\\n\")\n",
      "for pname in pd1_results.keys():\n",
      "    line = \"{0:s},{1:f},{2:f},{3:f},{4:f}\\n\".format(pname,pestpp_results[pname][0],pestpp_results[pname][1],\n",
      "                                                pd1_results[pname][0],pd1_results[pname][1])\n",
      "    f.write(line)\n",
      "f.close()"
     ],
     "language": "python",
     "metadata": {},
     "outputs": [],
     "prompt_number": 92
    },
    {
     "cell_type": "code",
     "collapsed": false,
     "input": [],
     "language": "python",
     "metadata": {},
     "outputs": []
    }
   ],
   "metadata": {}
  }
 ]
}